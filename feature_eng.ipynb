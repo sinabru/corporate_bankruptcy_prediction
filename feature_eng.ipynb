{
 "cells": [
  {
   "cell_type": "markdown",
   "metadata": {},
   "source": [
    "## Feature Engineering"
   ]
  },
  {
   "cell_type": "markdown",
   "metadata": {},
   "source": [
    "This workbook contains all necessary and possible steps of feature engineering before running the models.\n",
    "This includes:\n",
    "- dropping columns\n",
    "- filling missing values\n",
    "- outlier treatment\n",
    "- train/test split\n",
    "- normalization\n",
    "- data transformation\n",
    "- oversampling technique"
   ]
  },
  {
   "cell_type": "markdown",
   "metadata": {},
   "source": [
    "### 1. Imports"
   ]
  },
  {
   "cell_type": "code",
   "execution_count": 1,
   "metadata": {},
   "outputs": [],
   "source": [
    "# package imports\n",
    "import warnings\n",
    "warnings.filterwarnings(\"ignore\")\n",
    "\n",
    "import numpy as np\n",
    "import pandas as pd\n",
    "from ipynb.fs.full.prep_datasets import pipeline_preparation"
   ]
  },
  {
   "cell_type": "code",
   "execution_count": 2,
   "metadata": {},
   "outputs": [
    {
     "name": "stderr",
     "output_type": "stream",
     "text": [
      "C:\\ProgramData\\Anaconda3\\lib\\site-packages\\sklearn\\externals\\six.py:31: DeprecationWarning: The module is deprecated in version 0.21 and will be removed in version 0.23 since we've dropped support for Python 2.7. Please rely on the official version of six (https://pypi.org/project/six/).\n",
      "  \"(https://pypi.org/project/six/).\", DeprecationWarning)\n"
     ]
    }
   ],
   "source": [
    "# library imports\n",
    "from sklearn.preprocessing import MinMaxScaler, StandardScaler\n",
    "from sklearn.preprocessing import power_transform\n",
    "from imblearn.over_sampling import SMOTE\n",
    "from sklearn.model_selection import train_test_split"
   ]
  },
  {
   "cell_type": "markdown",
   "metadata": {},
   "source": [
    "### 2. Loading and preparing the data"
   ]
  },
  {
   "cell_type": "code",
   "execution_count": 3,
   "metadata": {},
   "outputs": [
    {
     "data": {
      "text/html": [
       "<div>\n",
       "<style scoped>\n",
       "    .dataframe tbody tr th:only-of-type {\n",
       "        vertical-align: middle;\n",
       "    }\n",
       "\n",
       "    .dataframe tbody tr th {\n",
       "        vertical-align: top;\n",
       "    }\n",
       "\n",
       "    .dataframe thead th {\n",
       "        text-align: right;\n",
       "    }\n",
       "</style>\n",
       "<table border=\"1\" class=\"dataframe\">\n",
       "  <thead>\n",
       "    <tr style=\"text-align: right;\">\n",
       "      <th></th>\n",
       "      <th>oprev_turn_2016</th>\n",
       "      <th>oprev_turn_2015</th>\n",
       "      <th>oprev_turn_2014</th>\n",
       "      <th>oprev_turn_2013</th>\n",
       "      <th>oprev_turn_2012</th>\n",
       "      <th>netinc_2016</th>\n",
       "      <th>netinc_2015</th>\n",
       "      <th>netinc_2014</th>\n",
       "      <th>netinc_2013</th>\n",
       "      <th>netinc_2012</th>\n",
       "      <th>...</th>\n",
       "      <th>wc_2015</th>\n",
       "      <th>wc_2014</th>\n",
       "      <th>wc_2013</th>\n",
       "      <th>wc_2012</th>\n",
       "      <th>ebit_2016</th>\n",
       "      <th>ebit_2015</th>\n",
       "      <th>ebit_2014</th>\n",
       "      <th>ebit_2013</th>\n",
       "      <th>ebit_2012</th>\n",
       "      <th>bankrupt</th>\n",
       "    </tr>\n",
       "  </thead>\n",
       "  <tbody>\n",
       "    <tr>\n",
       "      <th>0</th>\n",
       "      <td>-766.35</td>\n",
       "      <td>-7906.91</td>\n",
       "      <td>5816.03</td>\n",
       "      <td>18821.76</td>\n",
       "      <td>57891.48</td>\n",
       "      <td>-1812.06</td>\n",
       "      <td>-9470.22</td>\n",
       "      <td>868.65</td>\n",
       "      <td>7543.16</td>\n",
       "      <td>43498.62</td>\n",
       "      <td>...</td>\n",
       "      <td>NaN</td>\n",
       "      <td>NaN</td>\n",
       "      <td>NaN</td>\n",
       "      <td>NaN</td>\n",
       "      <td>-5824.87</td>\n",
       "      <td>-13714.53</td>\n",
       "      <td>-574.51</td>\n",
       "      <td>10786.05</td>\n",
       "      <td>31216.17</td>\n",
       "      <td>0</td>\n",
       "    </tr>\n",
       "    <tr>\n",
       "      <th>1</th>\n",
       "      <td>-38066.54</td>\n",
       "      <td>6595.85</td>\n",
       "      <td>6538.46</td>\n",
       "      <td>6033.35</td>\n",
       "      <td>-16398.63</td>\n",
       "      <td>6635.53</td>\n",
       "      <td>-117844.28</td>\n",
       "      <td>-12043.21</td>\n",
       "      <td>-65075.98</td>\n",
       "      <td>-62549.21</td>\n",
       "      <td>...</td>\n",
       "      <td>NaN</td>\n",
       "      <td>NaN</td>\n",
       "      <td>NaN</td>\n",
       "      <td>NaN</td>\n",
       "      <td>-42123.12</td>\n",
       "      <td>5689.15</td>\n",
       "      <td>5772.95</td>\n",
       "      <td>4640.32</td>\n",
       "      <td>-17129.81</td>\n",
       "      <td>0</td>\n",
       "    </tr>\n",
       "    <tr>\n",
       "      <th>2</th>\n",
       "      <td>-73110.61</td>\n",
       "      <td>-73994.18</td>\n",
       "      <td>-219163.04</td>\n",
       "      <td>-90426.31</td>\n",
       "      <td>-65.87</td>\n",
       "      <td>-145848.42</td>\n",
       "      <td>-141530.59</td>\n",
       "      <td>-280881.84</td>\n",
       "      <td>-203076.12</td>\n",
       "      <td>-146.32</td>\n",
       "      <td>...</td>\n",
       "      <td>NaN</td>\n",
       "      <td>NaN</td>\n",
       "      <td>NaN</td>\n",
       "      <td>NaN</td>\n",
       "      <td>-145182.90</td>\n",
       "      <td>-140783.81</td>\n",
       "      <td>-280590.36</td>\n",
       "      <td>-146308.52</td>\n",
       "      <td>-146.32</td>\n",
       "      <td>0</td>\n",
       "    </tr>\n",
       "    <tr>\n",
       "      <th>3</th>\n",
       "      <td>-28482.50</td>\n",
       "      <td>-32000.20</td>\n",
       "      <td>2570.26</td>\n",
       "      <td>9133.93</td>\n",
       "      <td>6622.08</td>\n",
       "      <td>-32358.51</td>\n",
       "      <td>-34233.79</td>\n",
       "      <td>118.54</td>\n",
       "      <td>5814.55</td>\n",
       "      <td>5723.77</td>\n",
       "      <td>...</td>\n",
       "      <td>NaN</td>\n",
       "      <td>NaN</td>\n",
       "      <td>NaN</td>\n",
       "      <td>NaN</td>\n",
       "      <td>-30769.77</td>\n",
       "      <td>-32322.32</td>\n",
       "      <td>2278.59</td>\n",
       "      <td>8806.28</td>\n",
       "      <td>6533.03</td>\n",
       "      <td>0</td>\n",
       "    </tr>\n",
       "    <tr>\n",
       "      <th>4</th>\n",
       "      <td>-2578.17</td>\n",
       "      <td>7294.13</td>\n",
       "      <td>0.01</td>\n",
       "      <td>4826.16</td>\n",
       "      <td>0.00</td>\n",
       "      <td>-40568.90</td>\n",
       "      <td>-31819.79</td>\n",
       "      <td>-37698.85</td>\n",
       "      <td>-77461.00</td>\n",
       "      <td>-11.65</td>\n",
       "      <td>...</td>\n",
       "      <td>NaN</td>\n",
       "      <td>NaN</td>\n",
       "      <td>NaN</td>\n",
       "      <td>NaN</td>\n",
       "      <td>-12652.25</td>\n",
       "      <td>-14650.90</td>\n",
       "      <td>-17555.11</td>\n",
       "      <td>-55605.31</td>\n",
       "      <td>-11.65</td>\n",
       "      <td>0</td>\n",
       "    </tr>\n",
       "  </tbody>\n",
       "</table>\n",
       "<p>5 rows × 137 columns</p>\n",
       "</div>"
      ],
      "text/plain": [
       "   oprev_turn_2016  oprev_turn_2015  oprev_turn_2014  oprev_turn_2013  \\\n",
       "0          -766.35         -7906.91          5816.03         18821.76   \n",
       "1        -38066.54          6595.85          6538.46          6033.35   \n",
       "2        -73110.61        -73994.18       -219163.04        -90426.31   \n",
       "3        -28482.50        -32000.20          2570.26          9133.93   \n",
       "4         -2578.17          7294.13             0.01          4826.16   \n",
       "\n",
       "   oprev_turn_2012  netinc_2016  netinc_2015  netinc_2014  netinc_2013  \\\n",
       "0         57891.48     -1812.06     -9470.22       868.65      7543.16   \n",
       "1        -16398.63      6635.53   -117844.28    -12043.21    -65075.98   \n",
       "2           -65.87   -145848.42   -141530.59   -280881.84   -203076.12   \n",
       "3          6622.08    -32358.51    -34233.79       118.54      5814.55   \n",
       "4             0.00    -40568.90    -31819.79    -37698.85    -77461.00   \n",
       "\n",
       "   netinc_2012  ...  wc_2015  wc_2014  wc_2013  wc_2012  ebit_2016  ebit_2015  \\\n",
       "0     43498.62  ...      NaN      NaN      NaN      NaN   -5824.87  -13714.53   \n",
       "1    -62549.21  ...      NaN      NaN      NaN      NaN  -42123.12    5689.15   \n",
       "2      -146.32  ...      NaN      NaN      NaN      NaN -145182.90 -140783.81   \n",
       "3      5723.77  ...      NaN      NaN      NaN      NaN  -30769.77  -32322.32   \n",
       "4       -11.65  ...      NaN      NaN      NaN      NaN  -12652.25  -14650.90   \n",
       "\n",
       "   ebit_2014  ebit_2013  ebit_2012  bankrupt  \n",
       "0    -574.51   10786.05   31216.17         0  \n",
       "1    5772.95    4640.32  -17129.81         0  \n",
       "2 -280590.36 -146308.52    -146.32         0  \n",
       "3    2278.59    8806.28    6533.03         0  \n",
       "4  -17555.11  -55605.31     -11.65         0  \n",
       "\n",
       "[5 rows x 137 columns]"
      ]
     },
     "execution_count": 3,
     "metadata": {},
     "output_type": "execute_result"
    }
   ],
   "source": [
    "# loading the dataset and calling the pipeline_preparation function\n",
    "df = pd.read_csv(\"final_df_dec.csv\")\n",
    "df, df_2016 = pipeline_preparation(df)\n",
    "df.head()"
   ]
  },
  {
   "cell_type": "markdown",
   "metadata": {},
   "source": [
    "### 3. Feature engineering steps"
   ]
  },
  {
   "cell_type": "code",
   "execution_count": 4,
   "metadata": {},
   "outputs": [],
   "source": [
    "# dropping all rows where the entire values are missing\n",
    "def drop_cols(df):\n",
    "    cols = df.columns[0:-1]\n",
    "    df.dropna(axis = 0, subset = cols ,how = \"all\")\n",
    "    return df"
   ]
  },
  {
   "cell_type": "code",
   "execution_count": 5,
   "metadata": {},
   "outputs": [],
   "source": [
    "# filling the missing values, since there are infinite values inside replace them with NaN and fill missing values again\n",
    "def fill_nan(df):\n",
    "    cols = df.columns[0:-1]\n",
    "    for cols in df:\n",
    "        df[cols].fillna(df[cols].median(), inplace = True)\n",
    "    \n",
    "    df = df.replace([np.inf, -np.inf], np.nan)\n",
    "    \n",
    "    for cols in df:\n",
    "        df[cols].fillna(df[cols].median(), inplace = True)\n",
    "    return df"
   ]
  },
  {
   "cell_type": "code",
   "execution_count": 6,
   "metadata": {},
   "outputs": [],
   "source": [
    "# a possible outlier caption method; NOT used\n",
    "def outlier_cap(df):\n",
    "    for column_name in df.columns:\n",
    "        per_95 = np.percentile(df[column_name], 95)\n",
    "        df[column_name] = df[column_name].apply(lambda x: per_95 if x > per_95 else x)\n",
    "        per_05 = np.percentile(df[column_name], 5)\n",
    "        df[column_name] = df[column_name].apply(lambda x: per_05 if x < per_05 else x)\n",
    "    return df"
   ]
  },
  {
   "cell_type": "code",
   "execution_count": 7,
   "metadata": {},
   "outputs": [],
   "source": [
    "# a possible outlier dropping method; NOT used\n",
    "def outlier_drop(df):\n",
    "    for column_name in df.columns:\n",
    "        df = df.drop(np.argmax(df[column_name]))\n",
    "        df = df.drop(np.argmin(df[column_name]))\n",
    "    return df"
   ]
  },
  {
   "cell_type": "code",
   "execution_count": 8,
   "metadata": {},
   "outputs": [],
   "source": [
    "# train-test-split\n",
    "def data_split(df):\n",
    "    X = df.iloc[:,:-1]\n",
    "    y = df.iloc[:,-1]\n",
    "    X_train, X_test, y_train, y_test = train_test_split(X, y, test_size=0.2, random_state = 30)\n",
    "    return X_train, X_test, y_train, y_test"
   ]
  },
  {
   "cell_type": "code",
   "execution_count": 9,
   "metadata": {},
   "outputs": [],
   "source": [
    "# scaling X_train, as the different variables are displayed in different units\n",
    "def normalization(X_train, X_test):\n",
    "    sc = StandardScaler()\n",
    "    sc.fit(X_train)\n",
    "    X_train = sc.transform(X_train)\n",
    "    X_test = sc.transform(X_test)\n",
    "    X_train = X_train.round(6)\n",
    "    X_test = X_test.round(6)\n",
    "    return X_train, X_test"
   ]
  },
  {
   "cell_type": "code",
   "execution_count": 10,
   "metadata": {},
   "outputs": [],
   "source": [
    "# transforming the data since it is skewed\n",
    "def transform(X_train, X_test):\n",
    "    X_train = power_transform(X_train, method=\"yeo-johnson\", copy=False)\n",
    "    X_test = power_transform(X_test, method=\"yeo-johnson\", copy=False)\n",
    "    X_train = X_train.round(6)\n",
    "    X_test = X_test.round(6)\n",
    "    return X_train, X_test"
   ]
  },
  {
   "cell_type": "code",
   "execution_count": 11,
   "metadata": {},
   "outputs": [],
   "source": [
    "# oversampling technique in order to train the model on a balanced dataset\n",
    "def smote(X_train, y_train):\n",
    "    sm = SMOTE(random_state = 2)\n",
    "    X_train, y_train = sm.fit_sample(X_train, y_train)\n",
    "    return X_train, y_train"
   ]
  },
  {
   "cell_type": "markdown",
   "metadata": {},
   "source": [
    "### 4. Feature engineering pipeline"
   ]
  },
  {
   "cell_type": "code",
   "execution_count": 12,
   "metadata": {},
   "outputs": [],
   "source": [
    "# final feature engineering pipeline\n",
    "def pipeline_feature_eng(df):\n",
    "    df = drop_cols(df)\n",
    "    df = fill_nan(df)\n",
    "    X_train, X_test, y_train, y_test = data_split(df)\n",
    "    X_train, X_test = normalization(X_train, X_test)\n",
    "    X_train, X_test = transform(X_train, X_test)\n",
    "    X_train, y_train = smote(X_train, y_train)\n",
    "    return df, X_train, X_test, y_train, y_test"
   ]
  },
  {
   "cell_type": "code",
   "execution_count": 13,
   "metadata": {},
   "outputs": [],
   "source": [
    "# calling the feature engineering pipeline\n",
    "df, X_train, X_test, y_train, y_test = pipeline_feature_eng(df)"
   ]
  },
  {
   "cell_type": "code",
   "execution_count": null,
   "metadata": {},
   "outputs": [],
   "source": []
  }
 ],
 "metadata": {
  "kernelspec": {
   "display_name": "Python 3",
   "language": "python",
   "name": "python3"
  },
  "language_info": {
   "codemirror_mode": {
    "name": "ipython",
    "version": 3
   },
   "file_extension": ".py",
   "mimetype": "text/x-python",
   "name": "python",
   "nbconvert_exporter": "python",
   "pygments_lexer": "ipython3",
   "version": "3.6.7"
  }
 },
 "nbformat": 4,
 "nbformat_minor": 2
}

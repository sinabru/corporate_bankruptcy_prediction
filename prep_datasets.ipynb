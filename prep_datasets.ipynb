{
 "cells": [
  {
   "cell_type": "markdown",
   "metadata": {},
   "source": [
    "## Preparation of the dataset"
   ]
  },
  {
   "cell_type": "markdown",
   "metadata": {},
   "source": [
    "This notebook contains adjustments of the dataset in order to be ready for the classifier. This includes analyzing the correlation and dropping variables with a perfect correlation."
   ]
  },
  {
   "cell_type": "markdown",
   "metadata": {},
   "source": [
    "### 1. Import"
   ]
  },
  {
   "cell_type": "code",
   "execution_count": 1,
   "metadata": {},
   "outputs": [],
   "source": [
    "# import necessary libraries\n",
    "import numpy as np\n",
    "import pandas as pd\n",
    "import seaborn as sns\n",
    "import matplotlib as plt"
   ]
  },
  {
   "cell_type": "markdown",
   "metadata": {},
   "source": [
    "### 2. Loading the data"
   ]
  },
  {
   "cell_type": "code",
   "execution_count": 2,
   "metadata": {},
   "outputs": [
    {
     "data": {
      "text/html": [
       "<div>\n",
       "<style scoped>\n",
       "    .dataframe tbody tr th:only-of-type {\n",
       "        vertical-align: middle;\n",
       "    }\n",
       "\n",
       "    .dataframe tbody tr th {\n",
       "        vertical-align: top;\n",
       "    }\n",
       "\n",
       "    .dataframe thead th {\n",
       "        text-align: right;\n",
       "    }\n",
       "</style>\n",
       "<table border=\"1\" class=\"dataframe\">\n",
       "  <thead>\n",
       "    <tr style=\"text-align: right;\">\n",
       "      <th></th>\n",
       "      <th>company_name</th>\n",
       "      <th>city</th>\n",
       "      <th>district</th>\n",
       "      <th>province</th>\n",
       "      <th>industry</th>\n",
       "      <th>sector</th>\n",
       "      <th>last_year_ava</th>\n",
       "      <th>plbt_2016</th>\n",
       "      <th>plbt_2015</th>\n",
       "      <th>plbt_2014</th>\n",
       "      <th>...</th>\n",
       "      <th>wc_2015</th>\n",
       "      <th>wc_2014</th>\n",
       "      <th>wc_2013</th>\n",
       "      <th>wc_2012</th>\n",
       "      <th>ebit_2016</th>\n",
       "      <th>ebit_2015</th>\n",
       "      <th>ebit_2014</th>\n",
       "      <th>ebit_2013</th>\n",
       "      <th>ebit_2012</th>\n",
       "      <th>bankrupt</th>\n",
       "    </tr>\n",
       "  </thead>\n",
       "  <tbody>\n",
       "    <tr>\n",
       "      <th>0</th>\n",
       "      <td>INTERCEMENT PORTUGAL, S.A.</td>\n",
       "      <td>Lisboa</td>\n",
       "      <td>Lisboa</td>\n",
       "      <td>Lisboa</td>\n",
       "      <td>business and other management consultancy acti...</td>\n",
       "      <td>consultancy</td>\n",
       "      <td>2018-12-31</td>\n",
       "      <td>-6942.67</td>\n",
       "      <td>-14438.98</td>\n",
       "      <td>4059.84</td>\n",
       "      <td>...</td>\n",
       "      <td>NaN</td>\n",
       "      <td>NaN</td>\n",
       "      <td>NaN</td>\n",
       "      <td>NaN</td>\n",
       "      <td>-5824.87</td>\n",
       "      <td>-13714.53</td>\n",
       "      <td>-574.51</td>\n",
       "      <td>10786.05</td>\n",
       "      <td>31216.17</td>\n",
       "      <td>0</td>\n",
       "    </tr>\n",
       "    <tr>\n",
       "      <th>1</th>\n",
       "      <td>TAP - TRANSPORTES AÉREOS PORTUGUESES, SGPS, S.A.</td>\n",
       "      <td>Lisboa</td>\n",
       "      <td>Lisboa</td>\n",
       "      <td>Lisboa</td>\n",
       "      <td>activities of holding companies non financial</td>\n",
       "      <td>holding companies</td>\n",
       "      <td>2018-12-31</td>\n",
       "      <td>6612.05</td>\n",
       "      <td>-117714.28</td>\n",
       "      <td>-12043.21</td>\n",
       "      <td>...</td>\n",
       "      <td>NaN</td>\n",
       "      <td>NaN</td>\n",
       "      <td>NaN</td>\n",
       "      <td>NaN</td>\n",
       "      <td>-42123.12</td>\n",
       "      <td>5689.15</td>\n",
       "      <td>5772.95</td>\n",
       "      <td>4640.32</td>\n",
       "      <td>-17129.81</td>\n",
       "      <td>0</td>\n",
       "    </tr>\n",
       "    <tr>\n",
       "      <th>2</th>\n",
       "      <td>INVESTGAVE, SGPS, S.A.</td>\n",
       "      <td>Lisboa</td>\n",
       "      <td>Lisboa</td>\n",
       "      <td>Lisboa</td>\n",
       "      <td>activities of holding companies non financial</td>\n",
       "      <td>holding companies</td>\n",
       "      <td>2018-12-31</td>\n",
       "      <td>-145848.42</td>\n",
       "      <td>-141530.59</td>\n",
       "      <td>-280881.84</td>\n",
       "      <td>...</td>\n",
       "      <td>NaN</td>\n",
       "      <td>NaN</td>\n",
       "      <td>NaN</td>\n",
       "      <td>NaN</td>\n",
       "      <td>-145182.90</td>\n",
       "      <td>-140783.81</td>\n",
       "      <td>-280590.36</td>\n",
       "      <td>-146308.52</td>\n",
       "      <td>-146.32</td>\n",
       "      <td>0</td>\n",
       "    </tr>\n",
       "    <tr>\n",
       "      <th>3</th>\n",
       "      <td>SOMAGUE - SOCIEDADE GESTORA DE PARTICIPAÇÕES S...</td>\n",
       "      <td>Lisboa</td>\n",
       "      <td>Lisboa</td>\n",
       "      <td>Lisboa</td>\n",
       "      <td>activities of holding companies non financial</td>\n",
       "      <td>holding companies</td>\n",
       "      <td>2018-12-31</td>\n",
       "      <td>-32358.51</td>\n",
       "      <td>-34433.79</td>\n",
       "      <td>-121.30</td>\n",
       "      <td>...</td>\n",
       "      <td>NaN</td>\n",
       "      <td>NaN</td>\n",
       "      <td>NaN</td>\n",
       "      <td>NaN</td>\n",
       "      <td>-30769.77</td>\n",
       "      <td>-32322.32</td>\n",
       "      <td>2278.59</td>\n",
       "      <td>8806.28</td>\n",
       "      <td>6533.03</td>\n",
       "      <td>0</td>\n",
       "    </tr>\n",
       "    <tr>\n",
       "      <th>4</th>\n",
       "      <td>INVESTGAVE IV, SGPS, S.A.</td>\n",
       "      <td>Lisboa</td>\n",
       "      <td>Lisboa</td>\n",
       "      <td>Lisboa</td>\n",
       "      <td>activities of holding companies non financial</td>\n",
       "      <td>holding companies</td>\n",
       "      <td>2018-12-31</td>\n",
       "      <td>-40568.90</td>\n",
       "      <td>-31819.79</td>\n",
       "      <td>-37698.85</td>\n",
       "      <td>...</td>\n",
       "      <td>NaN</td>\n",
       "      <td>NaN</td>\n",
       "      <td>NaN</td>\n",
       "      <td>NaN</td>\n",
       "      <td>-12652.25</td>\n",
       "      <td>-14650.90</td>\n",
       "      <td>-17555.11</td>\n",
       "      <td>-55605.31</td>\n",
       "      <td>-11.65</td>\n",
       "      <td>0</td>\n",
       "    </tr>\n",
       "  </tbody>\n",
       "</table>\n",
       "<p>5 rows × 178 columns</p>\n",
       "</div>"
      ],
      "text/plain": [
       "                                        company_name    city district  \\\n",
       "0                         INTERCEMENT PORTUGAL, S.A.  Lisboa   Lisboa   \n",
       "1   TAP - TRANSPORTES AÉREOS PORTUGUESES, SGPS, S.A.  Lisboa   Lisboa   \n",
       "2                             INVESTGAVE, SGPS, S.A.  Lisboa   Lisboa   \n",
       "3  SOMAGUE - SOCIEDADE GESTORA DE PARTICIPAÇÕES S...  Lisboa   Lisboa   \n",
       "4                          INVESTGAVE IV, SGPS, S.A.  Lisboa   Lisboa   \n",
       "\n",
       "  province                                           industry  \\\n",
       "0   Lisboa  business and other management consultancy acti...   \n",
       "1   Lisboa      activities of holding companies non financial   \n",
       "2   Lisboa      activities of holding companies non financial   \n",
       "3   Lisboa      activities of holding companies non financial   \n",
       "4   Lisboa      activities of holding companies non financial   \n",
       "\n",
       "              sector last_year_ava  plbt_2016  plbt_2015  plbt_2014  ...  \\\n",
       "0        consultancy    2018-12-31   -6942.67  -14438.98    4059.84  ...   \n",
       "1  holding companies    2018-12-31    6612.05 -117714.28  -12043.21  ...   \n",
       "2  holding companies    2018-12-31 -145848.42 -141530.59 -280881.84  ...   \n",
       "3  holding companies    2018-12-31  -32358.51  -34433.79    -121.30  ...   \n",
       "4  holding companies    2018-12-31  -40568.90  -31819.79  -37698.85  ...   \n",
       "\n",
       "   wc_2015  wc_2014  wc_2013  wc_2012  ebit_2016  ebit_2015  ebit_2014  \\\n",
       "0      NaN      NaN      NaN      NaN   -5824.87  -13714.53    -574.51   \n",
       "1      NaN      NaN      NaN      NaN  -42123.12    5689.15    5772.95   \n",
       "2      NaN      NaN      NaN      NaN -145182.90 -140783.81 -280590.36   \n",
       "3      NaN      NaN      NaN      NaN  -30769.77  -32322.32    2278.59   \n",
       "4      NaN      NaN      NaN      NaN  -12652.25  -14650.90  -17555.11   \n",
       "\n",
       "   ebit_2013  ebit_2012  bankrupt  \n",
       "0   10786.05   31216.17         0  \n",
       "1    4640.32  -17129.81         0  \n",
       "2 -146308.52    -146.32         0  \n",
       "3    8806.28    6533.03         0  \n",
       "4  -55605.31     -11.65         0  \n",
       "\n",
       "[5 rows x 178 columns]"
      ]
     },
     "execution_count": 2,
     "metadata": {},
     "output_type": "execute_result"
    }
   ],
   "source": [
    "# read the csv file\n",
    "df = pd.read_csv(\"final_df_dec.csv\")\n",
    "df.head()"
   ]
  },
  {
   "cell_type": "markdown",
   "metadata": {},
   "source": [
    "### 3. Correlation"
   ]
  },
  {
   "cell_type": "code",
   "execution_count": 3,
   "metadata": {},
   "outputs": [
    {
     "data": {
      "text/plain": [
       "[('plbt_2016', 'netinc_2016'),\n",
       " ('plbt_2015', 'netinc_2015'),\n",
       " ('plbt_2013', 'netinc_2013'),\n",
       " ('plbt_2012', 'netinc_2012'),\n",
       " ('totass_2013', 'totass_2012'),\n",
       " ('ecoprof_2016', 'rota_2016'),\n",
       " ('ecoprof_2015', 'rota_2015'),\n",
       " ('ecoprof_2014', 'rota_2014'),\n",
       " ('ecoprof_2013', 'rota_2013'),\n",
       " ('ecoprof_2012', 'rota_2012'),\n",
       " ('finprof_2016', 'rosf_2016'),\n",
       " ('finprof_2015', 'rosf_2015'),\n",
       " ('finprof_2014', 'rosf_2014'),\n",
       " ('finprof_2013', 'rosf_2013'),\n",
       " ('finprof_2012', 'rosf_2012'),\n",
       " ('genliq_2016', 'curr_2016'),\n",
       " ('genliq_2015', 'curr_2015'),\n",
       " ('genliq_2014', 'curr_2014'),\n",
       " ('genliq_2013', 'curr_2013'),\n",
       " ('genliq_2012', 'curr_2012'),\n",
       " ('indeptness_2015', 'indeptness_2014'),\n",
       " ('indeptness_2015', 'indeptness_2013'),\n",
       " ('indeptness_2014', 'indeptness_2013'),\n",
       " ('solr_2015', 'solr_2014'),\n",
       " ('solr_2015', 'solr_2013'),\n",
       " ('solr_2014', 'solr_2013'),\n",
       " ('totassets/empl_2013', 'totassets/empl_2012')]"
      ]
     },
     "execution_count": 3,
     "metadata": {},
     "output_type": "execute_result"
    }
   ],
   "source": [
    "# check perfect correlation apperance \n",
    "corr = df.corr()\n",
    "indices = np.where(corr > 0.99)\n",
    "indices = [(corr.index[x], corr.columns[y]) for x, y in zip(*indices)\n",
    "                                        if x != y and x < y]\n",
    "indices"
   ]
  },
  {
   "cell_type": "markdown",
   "metadata": {},
   "source": [
    "### 4. Dropping entire columns because of correlation"
   ]
  },
  {
   "cell_type": "code",
   "execution_count": 4,
   "metadata": {},
   "outputs": [],
   "source": [
    "# variables to drop because of perfect correlation as seen before\n",
    "feat_to_drop = ['plbt_2016','plbt_2015',\"plbt_2014\",'plbt_2013','plbt_2012',\n",
    "                'ecoprof_2016',\"ecoprof_2015\",\"ecoprof_2014\",\"ecoprof_2013\",\"ecoprof_2012\",\n",
    "                'finprof_2016',\"finprof_2015\",\"finprof_2014\",\"finprof_2013\",\"finprof_2012\",\n",
    "                'genliq_2016',\"genliq_2015\",\"genliq_2014\",\"genliq_2013\",\"genliq_2012\",\n",
    "                'indeptness_2016',\"indeptness_2015\",\"indeptness_2014\",\"indeptness_2013\",\"indeptness_2012\",\n",
    "                'solr_2016',\"solr_2015\",\"solr_2014\",\"solr_2013\",\"solr_2012\",\n",
    "                'totass_2013', 'totass_2012','totassets/empl_2013', 'totassets/empl_2012'          \n",
    "                ]"
   ]
  },
  {
   "cell_type": "code",
   "execution_count": 5,
   "metadata": {},
   "outputs": [],
   "source": [
    "# function for dropping specific colums by means of a list of these columns\n",
    "def dropping(df,feat_to_drop):\n",
    "    df = df.iloc[:, 7:178]\n",
    "    df = df.drop(feat_to_drop, axis = 1)\n",
    "    return df"
   ]
  },
  {
   "cell_type": "markdown",
   "metadata": {},
   "source": [
    "### 5. Dividing the dataframe in subdataframes for every year"
   ]
  },
  {
   "cell_type": "code",
   "execution_count": 6,
   "metadata": {},
   "outputs": [],
   "source": [
    "# function for dividing the entire dataframe in subdataframes\n",
    "def division_subdf(df):\n",
    "    col_2016 = [x for x in df.columns if \"2016\" in x]\n",
    "    col_2016.append(\"bankrupt\")\n",
    "    df_2016 = df.loc[:, col_2016]\n",
    "    return df_2016"
   ]
  },
  {
   "cell_type": "markdown",
   "metadata": {},
   "source": [
    "### 6. Pipeline data preparation"
   ]
  },
  {
   "cell_type": "code",
   "execution_count": 7,
   "metadata": {},
   "outputs": [],
   "source": [
    "# function for the whole preparation pipeline\n",
    "def pipeline_preparation(df):\n",
    "    \n",
    "    df = dropping(df,feat_to_drop)\n",
    "    df_2016 = division_subdf(df)\n",
    "    \n",
    "    return df, df_2016"
   ]
  },
  {
   "cell_type": "code",
   "execution_count": 8,
   "metadata": {},
   "outputs": [],
   "source": [
    "# calling the pipeline_preparation function  \n",
    "df, df_2016 = pipeline_preparation(df)"
   ]
  },
  {
   "cell_type": "code",
   "execution_count": null,
   "metadata": {},
   "outputs": [],
   "source": []
  }
 ],
 "metadata": {
  "kernelspec": {
   "display_name": "Python 3",
   "language": "python",
   "name": "python3"
  },
  "language_info": {
   "codemirror_mode": {
    "name": "ipython",
    "version": 3
   },
   "file_extension": ".py",
   "mimetype": "text/x-python",
   "name": "python",
   "nbconvert_exporter": "python",
   "pygments_lexer": "ipython3",
   "version": "3.6.7"
  }
 },
 "nbformat": 4,
 "nbformat_minor": 2
}

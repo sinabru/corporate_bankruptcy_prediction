{
 "cells": [
  {
   "cell_type": "markdown",
   "metadata": {},
   "source": [
    "## Corporate Bankruptcy Prediction: Random Forest"
   ]
  },
  {
   "cell_type": "markdown",
   "metadata": {},
   "source": [
    "### 1. Imports"
   ]
  },
  {
   "cell_type": "code",
   "execution_count": 1,
   "metadata": {},
   "outputs": [
    {
     "name": "stderr",
     "output_type": "stream",
     "text": [
      "C:\\ProgramData\\Anaconda3\\lib\\site-packages\\sklearn\\externals\\six.py:31: DeprecationWarning: The module is deprecated in version 0.21 and will be removed in version 0.23 since we've dropped support for Python 2.7. Please rely on the official version of six (https://pypi.org/project/six/).\n",
      "  \"(https://pypi.org/project/six/).\", DeprecationWarning)\n"
     ]
    }
   ],
   "source": [
    "# imports\n",
    "import pandas as pd\n",
    "import numpy as np\n",
    "import matplotlib.pyplot as plt\n",
    "import seaborn as sns\n",
    "from ipynb.fs.full.prep_datasets import pipeline_preparation\n",
    "from ipynb.fs.full.feature_eng import pipeline_feature_eng\n",
    "from ipynb.fs.full.feature_eng import pipeline_ranfor\n",
    "\n",
    "# preprocessing imports\n",
    "from imblearn.over_sampling import SMOTE\n",
    "from sklearn.preprocessing import StandardScaler, power_transform\n",
    "from sklearn.model_selection import train_test_split\n",
    "\n",
    "# classifier imports\n",
    "from sklearn.ensemble import RandomForestClassifier\n",
    "\n",
    "# additional imports\n",
    "from sklearn.model_selection import cross_val_score, cross_val_predict\n",
    "from sklearn.feature_selection import SelectFromModel\n",
    "\n",
    "# performance measure imports\n",
    "from sklearn.metrics import confusion_matrix, roc_curve, roc_auc_score\n",
    "\n",
    "%matplotlib inline"
   ]
  },
  {
   "cell_type": "markdown",
   "metadata": {},
   "source": [
    "### 2. Preprocessing and feature engineering"
   ]
  },
  {
   "cell_type": "code",
   "execution_count": 2,
   "metadata": {},
   "outputs": [
    {
     "data": {
      "text/html": [
       "<div>\n",
       "<style scoped>\n",
       "    .dataframe tbody tr th:only-of-type {\n",
       "        vertical-align: middle;\n",
       "    }\n",
       "\n",
       "    .dataframe tbody tr th {\n",
       "        vertical-align: top;\n",
       "    }\n",
       "\n",
       "    .dataframe thead th {\n",
       "        text-align: right;\n",
       "    }\n",
       "</style>\n",
       "<table border=\"1\" class=\"dataframe\">\n",
       "  <thead>\n",
       "    <tr style=\"text-align: right;\">\n",
       "      <th></th>\n",
       "      <th>oprev_turn_2016</th>\n",
       "      <th>oprev_turn_2015</th>\n",
       "      <th>oprev_turn_2014</th>\n",
       "      <th>oprev_turn_2013</th>\n",
       "      <th>oprev_turn_2012</th>\n",
       "      <th>netinc_2016</th>\n",
       "      <th>netinc_2015</th>\n",
       "      <th>netinc_2014</th>\n",
       "      <th>netinc_2013</th>\n",
       "      <th>netinc_2012</th>\n",
       "      <th>...</th>\n",
       "      <th>wc_2015</th>\n",
       "      <th>wc_2014</th>\n",
       "      <th>wc_2013</th>\n",
       "      <th>wc_2012</th>\n",
       "      <th>ebit_2016</th>\n",
       "      <th>ebit_2015</th>\n",
       "      <th>ebit_2014</th>\n",
       "      <th>ebit_2013</th>\n",
       "      <th>ebit_2012</th>\n",
       "      <th>bankrupt</th>\n",
       "    </tr>\n",
       "  </thead>\n",
       "  <tbody>\n",
       "    <tr>\n",
       "      <th>0</th>\n",
       "      <td>-766.35</td>\n",
       "      <td>-7906.91</td>\n",
       "      <td>5816.03</td>\n",
       "      <td>18821.76</td>\n",
       "      <td>57891.48</td>\n",
       "      <td>-1812.06</td>\n",
       "      <td>-9470.22</td>\n",
       "      <td>868.65</td>\n",
       "      <td>7543.16</td>\n",
       "      <td>43498.62</td>\n",
       "      <td>...</td>\n",
       "      <td>0.45</td>\n",
       "      <td>0.0</td>\n",
       "      <td>0.0</td>\n",
       "      <td>0.0</td>\n",
       "      <td>-5824.87</td>\n",
       "      <td>-13714.53</td>\n",
       "      <td>-574.51</td>\n",
       "      <td>10786.05</td>\n",
       "      <td>31216.17</td>\n",
       "      <td>0</td>\n",
       "    </tr>\n",
       "    <tr>\n",
       "      <th>1</th>\n",
       "      <td>-38066.54</td>\n",
       "      <td>6595.85</td>\n",
       "      <td>6538.46</td>\n",
       "      <td>6033.35</td>\n",
       "      <td>-16398.63</td>\n",
       "      <td>6635.53</td>\n",
       "      <td>-117844.28</td>\n",
       "      <td>-12043.21</td>\n",
       "      <td>-65075.98</td>\n",
       "      <td>-62549.21</td>\n",
       "      <td>...</td>\n",
       "      <td>0.45</td>\n",
       "      <td>0.0</td>\n",
       "      <td>0.0</td>\n",
       "      <td>0.0</td>\n",
       "      <td>-42123.12</td>\n",
       "      <td>5689.15</td>\n",
       "      <td>5772.95</td>\n",
       "      <td>4640.32</td>\n",
       "      <td>-17129.81</td>\n",
       "      <td>0</td>\n",
       "    </tr>\n",
       "    <tr>\n",
       "      <th>2</th>\n",
       "      <td>-73110.61</td>\n",
       "      <td>-73994.18</td>\n",
       "      <td>-219163.04</td>\n",
       "      <td>-90426.31</td>\n",
       "      <td>-65.87</td>\n",
       "      <td>-145848.42</td>\n",
       "      <td>-141530.59</td>\n",
       "      <td>-280881.84</td>\n",
       "      <td>-203076.12</td>\n",
       "      <td>-146.32</td>\n",
       "      <td>...</td>\n",
       "      <td>0.45</td>\n",
       "      <td>0.0</td>\n",
       "      <td>0.0</td>\n",
       "      <td>0.0</td>\n",
       "      <td>-145182.90</td>\n",
       "      <td>-140783.81</td>\n",
       "      <td>-280590.36</td>\n",
       "      <td>-146308.52</td>\n",
       "      <td>-146.32</td>\n",
       "      <td>0</td>\n",
       "    </tr>\n",
       "    <tr>\n",
       "      <th>3</th>\n",
       "      <td>-28482.50</td>\n",
       "      <td>-32000.20</td>\n",
       "      <td>2570.26</td>\n",
       "      <td>9133.93</td>\n",
       "      <td>6622.08</td>\n",
       "      <td>-32358.51</td>\n",
       "      <td>-34233.79</td>\n",
       "      <td>118.54</td>\n",
       "      <td>5814.55</td>\n",
       "      <td>5723.77</td>\n",
       "      <td>...</td>\n",
       "      <td>0.45</td>\n",
       "      <td>0.0</td>\n",
       "      <td>0.0</td>\n",
       "      <td>0.0</td>\n",
       "      <td>-30769.77</td>\n",
       "      <td>-32322.32</td>\n",
       "      <td>2278.59</td>\n",
       "      <td>8806.28</td>\n",
       "      <td>6533.03</td>\n",
       "      <td>0</td>\n",
       "    </tr>\n",
       "    <tr>\n",
       "      <th>4</th>\n",
       "      <td>-2578.17</td>\n",
       "      <td>7294.13</td>\n",
       "      <td>0.01</td>\n",
       "      <td>4826.16</td>\n",
       "      <td>0.00</td>\n",
       "      <td>-40568.90</td>\n",
       "      <td>-31819.79</td>\n",
       "      <td>-37698.85</td>\n",
       "      <td>-77461.00</td>\n",
       "      <td>-11.65</td>\n",
       "      <td>...</td>\n",
       "      <td>0.45</td>\n",
       "      <td>0.0</td>\n",
       "      <td>0.0</td>\n",
       "      <td>0.0</td>\n",
       "      <td>-12652.25</td>\n",
       "      <td>-14650.90</td>\n",
       "      <td>-17555.11</td>\n",
       "      <td>-55605.31</td>\n",
       "      <td>-11.65</td>\n",
       "      <td>0</td>\n",
       "    </tr>\n",
       "  </tbody>\n",
       "</table>\n",
       "<p>5 rows × 137 columns</p>\n",
       "</div>"
      ],
      "text/plain": [
       "   oprev_turn_2016  oprev_turn_2015  oprev_turn_2014  oprev_turn_2013  \\\n",
       "0          -766.35         -7906.91          5816.03         18821.76   \n",
       "1        -38066.54          6595.85          6538.46          6033.35   \n",
       "2        -73110.61        -73994.18       -219163.04        -90426.31   \n",
       "3        -28482.50        -32000.20          2570.26          9133.93   \n",
       "4         -2578.17          7294.13             0.01          4826.16   \n",
       "\n",
       "   oprev_turn_2012  netinc_2016  netinc_2015  netinc_2014  netinc_2013  \\\n",
       "0         57891.48     -1812.06     -9470.22       868.65      7543.16   \n",
       "1        -16398.63      6635.53   -117844.28    -12043.21    -65075.98   \n",
       "2           -65.87   -145848.42   -141530.59   -280881.84   -203076.12   \n",
       "3          6622.08    -32358.51    -34233.79       118.54      5814.55   \n",
       "4             0.00    -40568.90    -31819.79    -37698.85    -77461.00   \n",
       "\n",
       "   netinc_2012  ...  wc_2015  wc_2014  wc_2013  wc_2012  ebit_2016  ebit_2015  \\\n",
       "0     43498.62  ...     0.45      0.0      0.0      0.0   -5824.87  -13714.53   \n",
       "1    -62549.21  ...     0.45      0.0      0.0      0.0  -42123.12    5689.15   \n",
       "2      -146.32  ...     0.45      0.0      0.0      0.0 -145182.90 -140783.81   \n",
       "3      5723.77  ...     0.45      0.0      0.0      0.0  -30769.77  -32322.32   \n",
       "4       -11.65  ...     0.45      0.0      0.0      0.0  -12652.25  -14650.90   \n",
       "\n",
       "   ebit_2014  ebit_2013  ebit_2012  bankrupt  \n",
       "0    -574.51   10786.05   31216.17         0  \n",
       "1    5772.95    4640.32  -17129.81         0  \n",
       "2 -280590.36 -146308.52    -146.32         0  \n",
       "3    2278.59    8806.28    6533.03         0  \n",
       "4  -17555.11  -55605.31     -11.65         0  \n",
       "\n",
       "[5 rows x 137 columns]"
      ]
     },
     "execution_count": 2,
     "metadata": {},
     "output_type": "execute_result"
    }
   ],
   "source": [
    "# reading the data, preprocessing and feature engineering\n",
    "df = pd.read_csv(\"final_df_dec.csv\")\n",
    "df, df_2016 = pipeline_preparation(df)\n",
    "df, X_train, X_test, y_train, y_test = pipeline_feature_eng(df)\n",
    "X_train, X_test, y_train, y_test = pipeline_ranfor(X_train, X_test, y_train, y_test)\n",
    "\n",
    "df.head()"
   ]
  },
  {
   "cell_type": "markdown",
   "metadata": {},
   "source": [
    "### 3. Fitting the model"
   ]
  },
  {
   "cell_type": "markdown",
   "metadata": {},
   "source": [
    "According to prior analysis the following classifier are the best estimator."
   ]
  },
  {
   "cell_type": "code",
   "execution_count": 3,
   "metadata": {},
   "outputs": [],
   "source": [
    "# best classifier Random Forest\n",
    "best_classifier_ranfor = (RandomForestClassifier(bootstrap=True, class_weight=None, criterion='gini',\n",
    "                       max_depth=4, max_features=10, max_leaf_nodes=None,\n",
    "                       min_impurity_decrease=0, min_impurity_split=None,\n",
    "                       min_samples_leaf=9, min_samples_split=12,\n",
    "                       min_weight_fraction_leaf=0, n_estimators=10, n_jobs=-1,\n",
    "                       oob_score=False, random_state=None, verbose=0,\n",
    "                       warm_start=False))"
   ]
  },
  {
   "cell_type": "code",
   "execution_count": 4,
   "metadata": {},
   "outputs": [],
   "source": [
    "# function for fitting the model\n",
    "def fit_model(best_classifier, df, X_train, y_train):\n",
    "    # fit classifier\n",
    "    cols = df.columns[0:-1]\n",
    "    best_estim = best_classifier.fit(X_train, y_train)\n",
    "    # cross validation score\n",
    "    scores = cross_val_score(best_classifier, X_train, y_train, cv=5, scoring=\"roc_auc\")\n",
    "    print(\"CV Mean:\",scores.mean())\n",
    "    return best_estim"
   ]
  },
  {
   "cell_type": "markdown",
   "metadata": {},
   "source": [
    "I am now fitting the best estimator with the training data. The test data was put aside. "
   ]
  },
  {
   "cell_type": "code",
   "execution_count": 5,
   "metadata": {
    "scrolled": false
   },
   "outputs": [
    {
     "name": "stdout",
     "output_type": "stream",
     "text": [
      "CV Mean: 0.9203388844705817\n"
     ]
    }
   ],
   "source": [
    "# training the data for Random Forest model\n",
    "best_estim_ranfor = fit_model(best_classifier_ranfor, df, X_train, y_train)"
   ]
  },
  {
   "cell_type": "markdown",
   "metadata": {},
   "source": [
    "### 4. Feature importance"
   ]
  },
  {
   "cell_type": "code",
   "execution_count": 6,
   "metadata": {},
   "outputs": [],
   "source": [
    "# feature importance random forest\n",
    "def feature_importance(best_estim):\n",
    "    cols = df.columns[0:-1]\n",
    "    feat_imp_output = pd.DataFrame({\"feature\":cols,\n",
    "                                    \"importance\": best_estim.feature_importances_})\n",
    "    return feat_imp_output"
   ]
  },
  {
   "cell_type": "code",
   "execution_count": 7,
   "metadata": {},
   "outputs": [
    {
     "data": {
      "text/html": [
       "<div>\n",
       "<style scoped>\n",
       "    .dataframe tbody tr th:only-of-type {\n",
       "        vertical-align: middle;\n",
       "    }\n",
       "\n",
       "    .dataframe tbody tr th {\n",
       "        vertical-align: top;\n",
       "    }\n",
       "\n",
       "    .dataframe thead th {\n",
       "        text-align: right;\n",
       "    }\n",
       "</style>\n",
       "<table border=\"1\" class=\"dataframe\">\n",
       "  <thead>\n",
       "    <tr style=\"text-align: right;\">\n",
       "      <th></th>\n",
       "      <th>feature</th>\n",
       "      <th>importance</th>\n",
       "    </tr>\n",
       "  </thead>\n",
       "  <tbody>\n",
       "    <tr>\n",
       "      <th>43</th>\n",
       "      <td>ic_2016</td>\n",
       "      <td>0.209813</td>\n",
       "    </tr>\n",
       "    <tr>\n",
       "      <th>83</th>\n",
       "      <td>prof/empl_2016</td>\n",
       "      <td>0.095802</td>\n",
       "    </tr>\n",
       "    <tr>\n",
       "      <th>118</th>\n",
       "      <td>numofempl_2014</td>\n",
       "      <td>0.076891</td>\n",
       "    </tr>\n",
       "    <tr>\n",
       "      <th>58</th>\n",
       "      <td>crepe_days_2016</td>\n",
       "      <td>0.067061</td>\n",
       "    </tr>\n",
       "    <tr>\n",
       "      <th>4</th>\n",
       "      <td>oprev_turn_2012</td>\n",
       "      <td>0.051403</td>\n",
       "    </tr>\n",
       "    <tr>\n",
       "      <th>116</th>\n",
       "      <td>numofempl_2016</td>\n",
       "      <td>0.048355</td>\n",
       "    </tr>\n",
       "    <tr>\n",
       "      <th>33</th>\n",
       "      <td>pm_2016</td>\n",
       "      <td>0.046546</td>\n",
       "    </tr>\n",
       "    <tr>\n",
       "      <th>6</th>\n",
       "      <td>netinc_2015</td>\n",
       "      <td>0.036750</td>\n",
       "    </tr>\n",
       "    <tr>\n",
       "      <th>121</th>\n",
       "      <td>sales_2016</td>\n",
       "      <td>0.028675</td>\n",
       "    </tr>\n",
       "    <tr>\n",
       "      <th>5</th>\n",
       "      <td>netinc_2016</td>\n",
       "      <td>0.024053</td>\n",
       "    </tr>\n",
       "    <tr>\n",
       "      <th>123</th>\n",
       "      <td>sales_2014</td>\n",
       "      <td>0.023965</td>\n",
       "    </tr>\n",
       "    <tr>\n",
       "      <th>2</th>\n",
       "      <td>oprev_turn_2014</td>\n",
       "      <td>0.022696</td>\n",
       "    </tr>\n",
       "    <tr>\n",
       "      <th>60</th>\n",
       "      <td>crepe_days_2014</td>\n",
       "      <td>0.020773</td>\n",
       "    </tr>\n",
       "    <tr>\n",
       "      <th>61</th>\n",
       "      <td>crepe_days_2013</td>\n",
       "      <td>0.019143</td>\n",
       "    </tr>\n",
       "    <tr>\n",
       "      <th>28</th>\n",
       "      <td>rota_2016</td>\n",
       "      <td>0.019061</td>\n",
       "    </tr>\n",
       "    <tr>\n",
       "      <th>119</th>\n",
       "      <td>numofempl_2013</td>\n",
       "      <td>0.017659</td>\n",
       "    </tr>\n",
       "    <tr>\n",
       "      <th>117</th>\n",
       "      <td>numofempl_2015</td>\n",
       "      <td>0.016766</td>\n",
       "    </tr>\n",
       "    <tr>\n",
       "      <th>54</th>\n",
       "      <td>colpe_days_2015</td>\n",
       "      <td>0.016612</td>\n",
       "    </tr>\n",
       "    <tr>\n",
       "      <th>84</th>\n",
       "      <td>prof/empl_2015</td>\n",
       "      <td>0.015407</td>\n",
       "    </tr>\n",
       "    <tr>\n",
       "      <th>131</th>\n",
       "      <td>ebit_2016</td>\n",
       "      <td>0.015052</td>\n",
       "    </tr>\n",
       "    <tr>\n",
       "      <th>56</th>\n",
       "      <td>colpe_days_2013</td>\n",
       "      <td>0.012361</td>\n",
       "    </tr>\n",
       "    <tr>\n",
       "      <th>44</th>\n",
       "      <td>ic_2015</td>\n",
       "      <td>0.012136</td>\n",
       "    </tr>\n",
       "    <tr>\n",
       "      <th>132</th>\n",
       "      <td>ebit_2015</td>\n",
       "      <td>0.010013</td>\n",
       "    </tr>\n",
       "    <tr>\n",
       "      <th>62</th>\n",
       "      <td>crepe_days_2012</td>\n",
       "      <td>0.009986</td>\n",
       "    </tr>\n",
       "    <tr>\n",
       "      <th>13</th>\n",
       "      <td>sheq_2016</td>\n",
       "      <td>0.007743</td>\n",
       "    </tr>\n",
       "    <tr>\n",
       "      <th>1</th>\n",
       "      <td>oprev_turn_2015</td>\n",
       "      <td>0.006976</td>\n",
       "    </tr>\n",
       "    <tr>\n",
       "      <th>29</th>\n",
       "      <td>rota_2015</td>\n",
       "      <td>0.006493</td>\n",
       "    </tr>\n",
       "    <tr>\n",
       "      <th>12</th>\n",
       "      <td>totass_2014</td>\n",
       "      <td>0.005892</td>\n",
       "    </tr>\n",
       "    <tr>\n",
       "      <th>53</th>\n",
       "      <td>colpe_days_2016</td>\n",
       "      <td>0.004607</td>\n",
       "    </tr>\n",
       "    <tr>\n",
       "      <th>14</th>\n",
       "      <td>sheq_2015</td>\n",
       "      <td>0.004556</td>\n",
       "    </tr>\n",
       "    <tr>\n",
       "      <th>...</th>\n",
       "      <td>...</td>\n",
       "      <td>...</td>\n",
       "    </tr>\n",
       "    <tr>\n",
       "      <th>20</th>\n",
       "      <td>rosf_2014</td>\n",
       "      <td>0.000000</td>\n",
       "    </tr>\n",
       "    <tr>\n",
       "      <th>19</th>\n",
       "      <td>rosf_2015</td>\n",
       "      <td>0.000000</td>\n",
       "    </tr>\n",
       "    <tr>\n",
       "      <th>17</th>\n",
       "      <td>sheq_2012</td>\n",
       "      <td>0.000000</td>\n",
       "    </tr>\n",
       "    <tr>\n",
       "      <th>16</th>\n",
       "      <td>sheq_2013</td>\n",
       "      <td>0.000000</td>\n",
       "    </tr>\n",
       "    <tr>\n",
       "      <th>9</th>\n",
       "      <td>netinc_2012</td>\n",
       "      <td>0.000000</td>\n",
       "    </tr>\n",
       "    <tr>\n",
       "      <th>8</th>\n",
       "      <td>netinc_2013</td>\n",
       "      <td>0.000000</td>\n",
       "    </tr>\n",
       "    <tr>\n",
       "      <th>38</th>\n",
       "      <td>nato_2016</td>\n",
       "      <td>0.000000</td>\n",
       "    </tr>\n",
       "    <tr>\n",
       "      <th>40</th>\n",
       "      <td>nato_2014</td>\n",
       "      <td>0.000000</td>\n",
       "    </tr>\n",
       "    <tr>\n",
       "      <th>88</th>\n",
       "      <td>operrev/empl_2016</td>\n",
       "      <td>0.000000</td>\n",
       "    </tr>\n",
       "    <tr>\n",
       "      <th>41</th>\n",
       "      <td>nato_2013</td>\n",
       "      <td>0.000000</td>\n",
       "    </tr>\n",
       "    <tr>\n",
       "      <th>87</th>\n",
       "      <td>prof/empl_2012</td>\n",
       "      <td>0.000000</td>\n",
       "    </tr>\n",
       "    <tr>\n",
       "      <th>85</th>\n",
       "      <td>prof/empl_2014</td>\n",
       "      <td>0.000000</td>\n",
       "    </tr>\n",
       "    <tr>\n",
       "      <th>82</th>\n",
       "      <td>gearing_2012</td>\n",
       "      <td>0.000000</td>\n",
       "    </tr>\n",
       "    <tr>\n",
       "      <th>81</th>\n",
       "      <td>gearing_2013</td>\n",
       "      <td>0.000000</td>\n",
       "    </tr>\n",
       "    <tr>\n",
       "      <th>80</th>\n",
       "      <td>gearing_2014</td>\n",
       "      <td>0.000000</td>\n",
       "    </tr>\n",
       "    <tr>\n",
       "      <th>79</th>\n",
       "      <td>gearing_2015</td>\n",
       "      <td>0.000000</td>\n",
       "    </tr>\n",
       "    <tr>\n",
       "      <th>77</th>\n",
       "      <td>shliqr_2012</td>\n",
       "      <td>0.000000</td>\n",
       "    </tr>\n",
       "    <tr>\n",
       "      <th>76</th>\n",
       "      <td>shliqr_2013</td>\n",
       "      <td>0.000000</td>\n",
       "    </tr>\n",
       "    <tr>\n",
       "      <th>75</th>\n",
       "      <td>shliqr_2014</td>\n",
       "      <td>0.000000</td>\n",
       "    </tr>\n",
       "    <tr>\n",
       "      <th>73</th>\n",
       "      <td>shliqr_2016</td>\n",
       "      <td>0.000000</td>\n",
       "    </tr>\n",
       "    <tr>\n",
       "      <th>72</th>\n",
       "      <td>liqr_2012</td>\n",
       "      <td>0.000000</td>\n",
       "    </tr>\n",
       "    <tr>\n",
       "      <th>67</th>\n",
       "      <td>curr_2012</td>\n",
       "      <td>0.000000</td>\n",
       "    </tr>\n",
       "    <tr>\n",
       "      <th>65</th>\n",
       "      <td>curr_2014</td>\n",
       "      <td>0.000000</td>\n",
       "    </tr>\n",
       "    <tr>\n",
       "      <th>63</th>\n",
       "      <td>curr_2016</td>\n",
       "      <td>0.000000</td>\n",
       "    </tr>\n",
       "    <tr>\n",
       "      <th>51</th>\n",
       "      <td>sto_2013</td>\n",
       "      <td>0.000000</td>\n",
       "    </tr>\n",
       "    <tr>\n",
       "      <th>50</th>\n",
       "      <td>sto_2014</td>\n",
       "      <td>0.000000</td>\n",
       "    </tr>\n",
       "    <tr>\n",
       "      <th>48</th>\n",
       "      <td>sto_2016</td>\n",
       "      <td>0.000000</td>\n",
       "    </tr>\n",
       "    <tr>\n",
       "      <th>46</th>\n",
       "      <td>ic_2013</td>\n",
       "      <td>0.000000</td>\n",
       "    </tr>\n",
       "    <tr>\n",
       "      <th>42</th>\n",
       "      <td>nato_2012</td>\n",
       "      <td>0.000000</td>\n",
       "    </tr>\n",
       "    <tr>\n",
       "      <th>135</th>\n",
       "      <td>ebit_2012</td>\n",
       "      <td>0.000000</td>\n",
       "    </tr>\n",
       "  </tbody>\n",
       "</table>\n",
       "<p>136 rows × 2 columns</p>\n",
       "</div>"
      ],
      "text/plain": [
       "               feature  importance\n",
       "43             ic_2016    0.209813\n",
       "83      prof/empl_2016    0.095802\n",
       "118     numofempl_2014    0.076891\n",
       "58     crepe_days_2016    0.067061\n",
       "4      oprev_turn_2012    0.051403\n",
       "116     numofempl_2016    0.048355\n",
       "33             pm_2016    0.046546\n",
       "6          netinc_2015    0.036750\n",
       "121         sales_2016    0.028675\n",
       "5          netinc_2016    0.024053\n",
       "123         sales_2014    0.023965\n",
       "2      oprev_turn_2014    0.022696\n",
       "60     crepe_days_2014    0.020773\n",
       "61     crepe_days_2013    0.019143\n",
       "28           rota_2016    0.019061\n",
       "119     numofempl_2013    0.017659\n",
       "117     numofempl_2015    0.016766\n",
       "54     colpe_days_2015    0.016612\n",
       "84      prof/empl_2015    0.015407\n",
       "131          ebit_2016    0.015052\n",
       "56     colpe_days_2013    0.012361\n",
       "44             ic_2015    0.012136\n",
       "132          ebit_2015    0.010013\n",
       "62     crepe_days_2012    0.009986\n",
       "13           sheq_2016    0.007743\n",
       "1      oprev_turn_2015    0.006976\n",
       "29           rota_2015    0.006493\n",
       "12         totass_2014    0.005892\n",
       "53     colpe_days_2016    0.004607\n",
       "14           sheq_2015    0.004556\n",
       "..                 ...         ...\n",
       "20           rosf_2014    0.000000\n",
       "19           rosf_2015    0.000000\n",
       "17           sheq_2012    0.000000\n",
       "16           sheq_2013    0.000000\n",
       "9          netinc_2012    0.000000\n",
       "8          netinc_2013    0.000000\n",
       "38           nato_2016    0.000000\n",
       "40           nato_2014    0.000000\n",
       "88   operrev/empl_2016    0.000000\n",
       "41           nato_2013    0.000000\n",
       "87      prof/empl_2012    0.000000\n",
       "85      prof/empl_2014    0.000000\n",
       "82        gearing_2012    0.000000\n",
       "81        gearing_2013    0.000000\n",
       "80        gearing_2014    0.000000\n",
       "79        gearing_2015    0.000000\n",
       "77         shliqr_2012    0.000000\n",
       "76         shliqr_2013    0.000000\n",
       "75         shliqr_2014    0.000000\n",
       "73         shliqr_2016    0.000000\n",
       "72           liqr_2012    0.000000\n",
       "67           curr_2012    0.000000\n",
       "65           curr_2014    0.000000\n",
       "63           curr_2016    0.000000\n",
       "51            sto_2013    0.000000\n",
       "50            sto_2014    0.000000\n",
       "48            sto_2016    0.000000\n",
       "46             ic_2013    0.000000\n",
       "42           nato_2012    0.000000\n",
       "135          ebit_2012    0.000000\n",
       "\n",
       "[136 rows x 2 columns]"
      ]
     },
     "execution_count": 7,
     "metadata": {},
     "output_type": "execute_result"
    }
   ],
   "source": [
    "# feature importance output\n",
    "feat_imp_output = feature_importance(best_estim_ranfor)\n",
    "feat_imp_output.sort_values(by=[\"importance\"], ascending=False)"
   ]
  },
  {
   "cell_type": "markdown",
   "metadata": {},
   "source": [
    "### 5. Prediction"
   ]
  },
  {
   "cell_type": "code",
   "execution_count": 8,
   "metadata": {},
   "outputs": [],
   "source": [
    "# function for prediction\n",
    "def prediction(best_estim, X_test, y_test):\n",
    "    # train classifier and predict\n",
    "    y_test_predicted = best_estim.predict(X_test)\n",
    "    y_test_prob_pred = best_estim.predict_proba(X_test)[::,1]\n",
    "\n",
    "    return y_test_predicted, y_test_prob_pred"
   ]
  },
  {
   "cell_type": "markdown",
   "metadata": {},
   "source": [
    "By means of the fitted model with the best estimator, I am now predicting on the test data and I am gonna evaluate these predictions. "
   ]
  },
  {
   "cell_type": "code",
   "execution_count": 9,
   "metadata": {},
   "outputs": [],
   "source": [
    "# predicting on test data Random Forest model\n",
    "y_test_predicted_ranfor, y_test_prob_pred_ranfor = prediction(best_estim_ranfor, X_test, y_test)"
   ]
  },
  {
   "cell_type": "markdown",
   "metadata": {},
   "source": [
    "### 6. Performance measurement"
   ]
  },
  {
   "cell_type": "code",
   "execution_count": 10,
   "metadata": {},
   "outputs": [],
   "source": [
    "# function for performance measurement\n",
    "def performance_measure(y_test, y_test_predicted, y_test_prob_pred):    \n",
    "\n",
    "    # plotting the ROC curve\n",
    "    fpr, tpr, thresholds = roc_curve(y_test, y_test_prob_pred)\n",
    "    plt.plot(fpr, tpr, c=\"dimgrey\",label=\"random forest classifier\")\n",
    "    plt.plot([0, 1], [0, 1], c=\"cornflowerblue\", linestyle='--', label=\"random guess classifier\")\n",
    "    plt.title(\"ROC Curve of Random Forest Classifier\")\n",
    "    plt.xlabel(\"False Positive Rate - Specificity\")\n",
    "    plt.ylabel(\"True Positive Rate - Sensitivity\")\n",
    "    plt.legend()\n",
    "    plt.grid(True)\n",
    "    plt.show()\n",
    "        \n",
    "    # AUC\n",
    "    auc = round(roc_auc_score(y_test, y_test_predicted),2)\n",
    "    print(\"AUC:\",auc)\n",
    "    return auc"
   ]
  },
  {
   "cell_type": "code",
   "execution_count": 11,
   "metadata": {},
   "outputs": [
    {
     "data": {
      "image/png": "[encoded data removed]",
      "text/plain": [
       "<Figure size 432x288 with 1 Axes>"
      ]
     },
     "metadata": {
      "needs_background": "light"
     },
     "output_type": "display_data"
    },
    {
     "name": "stdout",
     "output_type": "stream",
     "text": [
      "AUC: 0.77\n"
     ]
    },
    {
     "data": {
      "text/plain": [
       "0.77"
      ]
     },
     "execution_count": 11,
     "metadata": {},
     "output_type": "execute_result"
    }
   ],
   "source": [
    "# performance measure Random Forest\n",
    "performance_measure(y_test, y_test_predicted_ranfor, y_test_prob_pred_ranfor)"
   ]
  },
  {
   "cell_type": "code",
   "execution_count": 12,
   "metadata": {},
   "outputs": [],
   "source": [
    "# function for confusion matrix with individual decision-threshold\n",
    "def confusion(y_test, y_test_prob_pred, threshold):\n",
    "    \n",
    "    predicted = (y_test_prob_pred >= threshold).astype('int')\n",
    "    conf = confusion_matrix(y_test, predicted)\n",
    "    plt.figure(figsize=(7,5))\n",
    "    sns.heatmap(pd.DataFrame(conf), annot=True, cmap=\"Blues\" ,fmt='g')\n",
    "    plt.xlabel(\"predicted values\")\n",
    "    plt.ylabel(\"actual values\")\n",
    "    plt.title(\"Confusion Matrix for a {} decision-threshold\".format(threshold))\n",
    "    plt.show()\n",
    "    \n",
    "    TP = conf[1,1]\n",
    "    TN = conf[0,0]\n",
    "    FP = conf[0,1]\n",
    "    FN = conf[1,0]\n",
    "        \n",
    "    # sensitivity/ recall_score\n",
    "    print(\"Sensitivity:\", TP/float(TP+FN)) \n",
    "       \n",
    "    # specificity\n",
    "    print(\"Specificity:\", TN/float(TN+FP))"
   ]
  },
  {
   "cell_type": "code",
   "execution_count": 13,
   "metadata": {
    "scrolled": false
   },
   "outputs": [
    {
     "data": {
      "image/png": "[encoded data removed]",
      "text/plain": [
       "<Figure size 504x360 with 2 Axes>"
      ]
     },
     "metadata": {
      "needs_background": "light"
     },
     "output_type": "display_data"
    },
    {
     "name": "stdout",
     "output_type": "stream",
     "text": [
      "Sensitivity: 0.9887005649717514\n",
      "Specificity: 0.23145943966306537\n"
     ]
    }
   ],
   "source": [
    "# confusion matrix for 0.1 decision-threshold\n",
    "confusion(y_test, y_test_prob_pred_ranfor, 0.1)"
   ]
  },
  {
   "cell_type": "code",
   "execution_count": 14,
   "metadata": {
    "scrolled": false
   },
   "outputs": [
    {
     "data": {
      "image/png": "[encoded data removed]",
      "text/plain": [
       "<Figure size 504x360 with 2 Axes>"
      ]
     },
     "metadata": {
      "needs_background": "light"
     },
     "output_type": "display_data"
    },
    {
     "name": "stdout",
     "output_type": "stream",
     "text": [
      "Sensitivity: 0.903954802259887\n",
      "Specificity: 0.602850515778551\n"
     ]
    }
   ],
   "source": [
    "# confusion matrix for 0.3 decision-threshold\n",
    "confusion(y_test, y_test_prob_pred_ranfor, 0.3)"
   ]
  },
  {
   "cell_type": "code",
   "execution_count": 15,
   "metadata": {},
   "outputs": [
    {
     "data": {
      "image/png": "[encoded data removed]",
      "text/plain": [
       "<Figure size 504x360 with 2 Axes>"
      ]
     },
     "metadata": {
      "needs_background": "light"
     },
     "output_type": "display_data"
    },
    {
     "name": "stdout",
     "output_type": "stream",
     "text": [
      "Sensitivity: 0.6836158192090396\n",
      "Specificity: 0.8492034425929317\n"
     ]
    }
   ],
   "source": [
    "# confusion matrix for 0.5 decision-threshold\n",
    "confusion(y_test, y_test_prob_pred_ranfor, 0.5)"
   ]
  },
  {
   "cell_type": "code",
   "execution_count": 16,
   "metadata": {},
   "outputs": [
    {
     "data": {
      "image/png": "[encoded data removed]",
      "text/plain": [
       "<Figure size 504x360 with 2 Axes>"
      ]
     },
     "metadata": {
      "needs_background": "light"
     },
     "output_type": "display_data"
    },
    {
     "name": "stdout",
     "output_type": "stream",
     "text": [
      "Sensitivity: 0.2994350282485876\n",
      "Specificity: 0.9787737288652872\n"
     ]
    }
   ],
   "source": [
    "# confusion matrix for 0.8 decision-threshold\n",
    "confusion(y_test, y_test_prob_pred_ranfor, 0.8)"
   ]
  },
  {
   "cell_type": "code",
   "execution_count": null,
   "metadata": {},
   "outputs": [],
   "source": []
  },
  {
   "cell_type": "code",
   "execution_count": null,
   "metadata": {},
   "outputs": [],
   "source": []
  }
 ],
 "metadata": {
  "kernelspec": {
   "display_name": "Python 3",
   "language": "python",
   "name": "python3"
  },
  "language_info": {
   "codemirror_mode": {
    "name": "ipython",
    "version": 3
   },
   "file_extension": ".py",
   "mimetype": "text/x-python",
   "name": "python",
   "nbconvert_exporter": "python",
   "pygments_lexer": "ipython3",
   "version": "3.6.7"
  }
 },
 "nbformat": 4,
 "nbformat_minor": 2
}
